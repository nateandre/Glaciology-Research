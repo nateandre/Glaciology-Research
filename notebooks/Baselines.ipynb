{
 "cells": [
  {
   "cell_type": "code",
   "execution_count": 1,
   "metadata": {},
   "outputs": [],
   "source": [
    "import sys\n",
    "sys.path.insert(0,'../code')\n",
    "from baseline_utils import validate_model,print_results\n",
    "\n",
    "import warnings\n",
    "warnings.filterwarnings(\"ignore\")"
   ]
  },
  {
   "cell_type": "markdown",
   "metadata": {},
   "source": [
    "#### Linear regression"
   ]
  },
  {
   "cell_type": "code",
   "execution_count": 2,
   "metadata": {},
   "outputs": [
    {
     "name": "stdout",
     "output_type": "stream",
     "text": [
      "----standard:\n",
      "2014: summer:0.333931, winter:0.464047\n",
      "2015: summer:1.064903, winter:0.671501\n",
      "----time:\n",
      "2014: summer:0.346141, winter:0.527551\n",
      "2015: summer:1.283291, winter:0.769885\n"
     ]
    }
   ],
   "source": [
    "output,_ = validate_model(\"linear_regression\",{})\n",
    "print_results(output)"
   ]
  },
  {
   "cell_type": "markdown",
   "metadata": {},
   "source": [
    "#### Random forest"
   ]
  },
  {
   "cell_type": "code",
   "execution_count": 3,
   "metadata": {},
   "outputs": [
    {
     "name": "stdout",
     "output_type": "stream",
     "text": [
      "----standard:\n",
      "2014: summer:0.765319, winter:0.294676\n",
      "2015: summer:0.974436, winter:0.449171\n",
      "----time:\n",
      "2014: summer:0.782170, winter:0.279526\n",
      "2015: summer:1.086914, winter:0.775486\n"
     ]
    }
   ],
   "source": [
    "output,params = validate_model(\"random_forest\",{'n_estimators':[100,200,300],'max_depth':[None,2,4,6]})\n",
    "print_results(output)"
   ]
  },
  {
   "cell_type": "code",
   "execution_count": 4,
   "metadata": {},
   "outputs": [
    {
     "data": {
      "text/plain": [
       "{'standard': {2014: {'summer': (200, 2), 'winter': (300, 4)},\n",
       "  2015: {'summer': (200, 6), 'winter': (200, None)}},\n",
       " 'time': {2014: {'summer': (200, 2), 'winter': (200, None)},\n",
       "  2015: {'summer': (100, 2), 'winter': (200, 2)}}}"
      ]
     },
     "execution_count": 4,
     "metadata": {},
     "output_type": "execute_result"
    }
   ],
   "source": [
    "params"
   ]
  },
  {
   "cell_type": "markdown",
   "metadata": {},
   "source": [
    "#### Gradient boosting"
   ]
  },
  {
   "cell_type": "code",
   "execution_count": 5,
   "metadata": {},
   "outputs": [
    {
     "name": "stdout",
     "output_type": "stream",
     "text": [
      "----standard:\n",
      "2014: summer:0.588998, winter:0.272042\n",
      "2015: summer:0.481425, winter:0.311468\n",
      "----time:\n",
      "2014: summer:1.114923, winter:0.269204\n",
      "2015: summer:1.232383, winter:0.992607\n"
     ]
    }
   ],
   "source": [
    "output,params = validate_model(\"gradient_boosting\",{'n_estimators':[100,200,300],'max_depth':[None,2,4,6]})\n",
    "print_results(output)"
   ]
  },
  {
   "cell_type": "code",
   "execution_count": 6,
   "metadata": {},
   "outputs": [
    {
     "data": {
      "text/plain": [
       "{'standard': {2014: {'summer': (300, 2), 'winter': (100, 2)},\n",
       "  2015: {'summer': (200, 2), 'winter': (200, 4)}},\n",
       " 'time': {2014: {'summer': (100, 2), 'winter': (200, 2)},\n",
       "  2015: {'summer': (100, 2), 'winter': (100, 2)}}}"
      ]
     },
     "execution_count": 6,
     "metadata": {},
     "output_type": "execute_result"
    }
   ],
   "source": [
    "params"
   ]
  },
  {
   "cell_type": "markdown",
   "metadata": {},
   "source": [
    "#### DNN"
   ]
  },
  {
   "cell_type": "code",
   "execution_count": 7,
   "metadata": {},
   "outputs": [
    {
     "name": "stdout",
     "output_type": "stream",
     "text": [
      "----standard:\n",
      "2014: summer:0.469790, winter:0.324586\n",
      "2015: summer:0.920050, winter:0.620396\n",
      "----time:\n",
      "2014: summer:0.481896, winter:0.341404\n",
      "2015: summer:1.238823, winter:0.763291\n"
     ]
    }
   ],
   "source": [
    "output,params = validate_model(\"dnn\",{'hidden_layer_sizes':[(100,),(300,),(100,100,),(300,100,)],'alpha':[1.0,0.1,0.0]})\n",
    "print_results(output)"
   ]
  },
  {
   "cell_type": "code",
   "execution_count": 8,
   "metadata": {},
   "outputs": [
    {
     "data": {
      "text/plain": [
       "{'standard': {2014: {'summer': ((100,), 1.0), 'winter': ((100, 100), 1.0)},\n",
       "  2015: {'summer': ((300,), 0.1), 'winter': ((100, 100), 0.0)}},\n",
       " 'time': {2014: {'summer': ((100,), 1.0), 'winter': ((300, 100), 0.1)},\n",
       "  2015: {'summer': ((100, 100), 0.1), 'winter': ((100, 100), 1.0)}}}"
      ]
     },
     "execution_count": 8,
     "metadata": {},
     "output_type": "execute_result"
    }
   ],
   "source": [
    "params"
   ]
  },
  {
   "cell_type": "code",
   "execution_count": null,
   "metadata": {},
   "outputs": [],
   "source": []
  }
 ],
 "metadata": {
  "kernelspec": {
   "display_name": "Python 3",
   "language": "python",
   "name": "python3"
  },
  "language_info": {
   "codemirror_mode": {
    "name": "ipython",
    "version": 3
   },
   "file_extension": ".py",
   "mimetype": "text/x-python",
   "name": "python",
   "nbconvert_exporter": "python",
   "pygments_lexer": "ipython3",
   "version": "3.6.5"
  }
 },
 "nbformat": 4,
 "nbformat_minor": 2
}
