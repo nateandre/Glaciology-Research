{
 "cells": [
  {
   "cell_type": "code",
   "execution_count": 1,
   "metadata": {},
   "outputs": [],
   "source": [
    "import numpy as np\n",
    "import tensorflow as tf\n",
    "import tensorflow_probability as tfp\n",
    "import os"
   ]
  },
  {
   "cell_type": "code",
   "execution_count": 2,
   "metadata": {},
   "outputs": [],
   "source": [
    "def standard_ess(dir_name):\n",
    "    \"\"\" Calculates ESS for standard model parameters - averages over sites\n",
    "    \"\"\"\n",
    "    params = np.zeros((4,))\n",
    "\n",
    "    valid_files = [f for f in os.listdir(\"../model_output/{}/gp_samples/\".format(dir_name)) if f[0]!=\".\"]\n",
    "    for valid_file in valid_files:\n",
    "        samples = np.load(\"../model_output/{}/gp_samples/\".format(dir_name)+valid_file)\n",
    "        samples = np.swapaxes(samples,0,1)\n",
    "        ess = tfp.mcmc.effective_sample_size(samples).numpy()\n",
    "        params += ess\n",
    "    \n",
    "    params = params/len(valid_files)\n",
    "    return [round(ess_i,2) for ess_i in list(params)]"
   ]
  },
  {
   "cell_type": "code",
   "execution_count": 3,
   "metadata": {},
   "outputs": [],
   "source": [
    "def time_ess(dir_name):\n",
    "    \"\"\" Calculates ESS for time model parameters\n",
    "    \"\"\"\n",
    "    samples = np.load(\"../model_output/{}/gp_samples/parameters.npy\".format(dir_name))\n",
    "    samples = np.swapaxes(samples,0,1)\n",
    "    ess = tfp.mcmc.effective_sample_size(samples).numpy()\n",
    "    \n",
    "    return [round(ess_i,2) for ess_i in list(ess)]"
   ]
  },
  {
   "cell_type": "markdown",
   "metadata": {},
   "source": [
    "### Standard model"
   ]
  },
  {
   "cell_type": "code",
   "execution_count": 4,
   "metadata": {},
   "outputs": [
    {
     "data": {
      "text/plain": [
       "[200.71, 211.82, 530.72, 210.7]"
      ]
     },
     "execution_count": 4,
     "metadata": {},
     "output_type": "execute_result"
    }
   ],
   "source": [
    "standard_ess(\"graph_modeling_3_t_2\")"
   ]
  },
  {
   "cell_type": "code",
   "execution_count": 5,
   "metadata": {},
   "outputs": [
    {
     "data": {
      "text/plain": [
       "[702.78, 256.96, 172.11, 254.24]"
      ]
     },
     "execution_count": 5,
     "metadata": {},
     "output_type": "execute_result"
    }
   ],
   "source": [
    "standard_ess(\"graph_modeling_3_t_w_2\")"
   ]
  },
  {
   "cell_type": "code",
   "execution_count": 6,
   "metadata": {},
   "outputs": [
    {
     "data": {
      "text/plain": [
       "[165.24, 364.01, 194.83, 363.7]"
      ]
     },
     "execution_count": 6,
     "metadata": {},
     "output_type": "execute_result"
    }
   ],
   "source": [
    "standard_ess(\"graph_modeling_3_t_2_2014\")"
   ]
  },
  {
   "cell_type": "code",
   "execution_count": 7,
   "metadata": {},
   "outputs": [
    {
     "data": {
      "text/plain": [
       "[694.82, 232.99, 186.27, 223.27]"
      ]
     },
     "execution_count": 7,
     "metadata": {},
     "output_type": "execute_result"
    }
   ],
   "source": [
    "standard_ess(\"graph_modeling_3_t_w_2_2014\")"
   ]
  },
  {
   "cell_type": "markdown",
   "metadata": {},
   "source": [
    "### Time model"
   ]
  },
  {
   "cell_type": "code",
   "execution_count": 8,
   "metadata": {},
   "outputs": [
    {
     "data": {
      "text/plain": [
       "[230.33, 238.66, 150.9, 260.97]"
      ]
     },
     "execution_count": 8,
     "metadata": {},
     "output_type": "execute_result"
    }
   ],
   "source": [
    "time_ess(\"graph_modeling_3_t_2_time\")"
   ]
  },
  {
   "cell_type": "code",
   "execution_count": 9,
   "metadata": {},
   "outputs": [
    {
     "data": {
      "text/plain": [
       "[362.75, 225.17, 410.49, 246.88]"
      ]
     },
     "execution_count": 9,
     "metadata": {},
     "output_type": "execute_result"
    }
   ],
   "source": [
    "time_ess(\"graph_modeling_3_t_w_2_time\")"
   ]
  },
  {
   "cell_type": "code",
   "execution_count": 10,
   "metadata": {},
   "outputs": [
    {
     "data": {
      "text/plain": [
       "[567.49, 300.08, 130.55, 317.66]"
      ]
     },
     "execution_count": 10,
     "metadata": {},
     "output_type": "execute_result"
    }
   ],
   "source": [
    "time_ess(\"graph_modeling_3_t_2_2014_time\")"
   ]
  },
  {
   "cell_type": "code",
   "execution_count": 11,
   "metadata": {},
   "outputs": [
    {
     "data": {
      "text/plain": [
       "[377.76, 210.72, 420.49, 255.54]"
      ]
     },
     "execution_count": 11,
     "metadata": {},
     "output_type": "execute_result"
    }
   ],
   "source": [
    "time_ess(\"graph_modeling_3_t_w_2_2014_time\")"
   ]
  },
  {
   "cell_type": "code",
   "execution_count": null,
   "metadata": {},
   "outputs": [],
   "source": []
  }
 ],
 "metadata": {
  "kernelspec": {
   "display_name": "Python 3",
   "language": "python",
   "name": "python3"
  },
  "language_info": {
   "codemirror_mode": {
    "name": "ipython",
    "version": 3
   },
   "file_extension": ".py",
   "mimetype": "text/x-python",
   "name": "python",
   "nbconvert_exporter": "python",
   "pygments_lexer": "ipython3",
   "version": "3.6.5"
  }
 },
 "nbformat": 4,
 "nbformat_minor": 2
}
